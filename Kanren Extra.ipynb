{
 "cells": [
  {
   "cell_type": "code",
   "execution_count": 1,
   "metadata": {},
   "outputs": [
    {
     "name": "stdout",
     "output_type": "stream",
     "text": [
      "Collecting kanren\n",
      "  Downloading kanren-0.2.3.tar.gz (23 kB)\n",
      "Requirement already satisfied: toolz in c:\\users\\prav\\anaconda33\\lib\\site-packages (from kanren) (0.10.0)\n",
      "Requirement already satisfied: multipledispatch in c:\\users\\prav\\anaconda33\\lib\\site-packages (from kanren) (0.6.0)\n",
      "Collecting unification\n",
      "  Downloading unification-0.2.2-py2.py3-none-any.whl (10 kB)\n",
      "Requirement already satisfied: six in c:\\users\\prav\\anaconda33\\lib\\site-packages (from multipledispatch->kanren) (1.15.0)\n",
      "Building wheels for collected packages: kanren\n",
      "  Building wheel for kanren (setup.py): started\n",
      "  Building wheel for kanren (setup.py): finished with status 'done'\n",
      "  Created wheel for kanren: filename=kanren-0.2.3-py3-none-any.whl size=15863 sha256=3d5513c34f3e29186d64b04b3eb70afed58439014b8fe87c3192c103acea0c55\n",
      "  Stored in directory: c:\\users\\prav\\appdata\\local\\pip\\cache\\wheels\\69\\e7\\58\\f138e1a8e1b6a717490d4c69ed313e46b459fb5bde2a100b9b\n",
      "Successfully built kanren\n",
      "Installing collected packages: unification, kanren\n",
      "Successfully installed kanren-0.2.3 unification-0.2.2\n"
     ]
    }
   ],
   "source": [
    "#!pip install kanren"
   ]
  },
  {
   "cell_type": "code",
   "execution_count": 2,
   "metadata": {},
   "outputs": [
    {
     "name": "stdout",
     "output_type": "stream",
     "text": [
      "(5,)\n"
     ]
    }
   ],
   "source": [
    "#Sample test\n",
    "from kanren import run, eq, var\n",
    "x = var()\n",
    "#kanren enables the expression of relations and the search for values which satisfy them. \n",
    "\n",
    "#The following code is the \"Hello, world!\" of logic programming. It asks for `1` number, `x`, such that `x == 5`\n",
    "ans=run(1, x, eq(x, 5))\n",
    "print(ans)"
   ]
  },
  {
   "cell_type": "code",
   "execution_count": 3,
   "metadata": {},
   "outputs": [
    {
     "data": {
      "text/plain": [
       "(3,)"
      ]
     },
     "execution_count": 3,
     "metadata": {},
     "output_type": "execute_result"
    }
   ],
   "source": [
    "z = var()\n",
    "run(1, x, eq(x, z),\n",
    "eq(z, 3))"
   ]
  },
  {
   "cell_type": "code",
   "execution_count": 8,
   "metadata": {},
   "outputs": [],
   "source": [
    "from kanren import Relation, facts\n",
    "parent = Relation()\n",
    "facts(parent, (\"Homer\", \"Bart\"),\n",
    "                (\"Marge\", \"Bart\"),\n",
    "               (\"Homer\", \"Lisa\"),\n",
    "              (\"Marge\", \"Lisa\"),\n",
    "              (\"Homer\", \"Maggie\"),\n",
    "              (\"Marge\", \"Maggie\"),\n",
    "               (\"Abe\",  \"Homer\"))"
   ]
  },
  {
   "cell_type": "code",
   "execution_count": 9,
   "metadata": {},
   "outputs": [
    {
     "name": "stdout",
     "output_type": "stream",
     "text": [
      "()\n"
     ]
    }
   ],
   "source": [
    "ans=run(2, x, (parent, x, \"Bart\"))\n",
    "print(ans)"
   ]
  },
  {
   "cell_type": "code",
   "execution_count": 6,
   "metadata": {},
   "outputs": [
    {
     "name": "stdout",
     "output_type": "stream",
     "text": [
      "('Lisa', 'Bart', 'Maggie')\n"
     ]
    }
   ],
   "source": [
    "child=run(3, x, parent(\"Homer\", x))\n",
    "print(child)"
   ]
  },
  {
   "cell_type": "code",
   "execution_count": 7,
   "metadata": {},
   "outputs": [
    {
     "name": "stdout",
     "output_type": "stream",
     "text": [
      "('Abe',)\n"
     ]
    }
   ],
   "source": [
    "#grandparents\n",
    "y = var()\n",
    "gp=run(1, x, parent(x, y),\n",
    "              parent(y, 'Bart'))\n",
    "\n",
    "print(gp)"
   ]
  },
  {
   "cell_type": "code",
   "execution_count": 10,
   "metadata": {},
   "outputs": [],
   "source": [
    "from kanren import Relation, facts\n",
    "food = Relation()\n",
    "facts(food, (\"Nathan\", \"Mexican\"),\n",
    "                (\"Tina\", \"Thai\"),\n",
    "               (\"Tim\", \"Vegetarian\"),\n",
    "              (\"Sally\", \"Italian\"),\n",
    "              (\"John\", \"Thai\"))"
   ]
  },
  {
   "cell_type": "code",
   "execution_count": 11,
   "metadata": {},
   "outputs": [
    {
     "name": "stdout",
     "output_type": "stream",
     "text": [
      "('Nathan',)\n"
     ]
    }
   ],
   "source": [
    "ans=run(2, x, (food, x, \"Mexican\"))\n",
    "print(ans)"
   ]
  },
  {
   "cell_type": "code",
   "execution_count": 16,
   "metadata": {},
   "outputs": [
    {
     "name": "stdout",
     "output_type": "stream",
     "text": [
      "('Vegetarian',)\n"
     ]
    }
   ],
   "source": [
    "#Example\n",
    "child=run(3, x, food(\"Tim\", x))\n",
    "print(child)"
   ]
  },
  {
   "cell_type": "code",
   "execution_count": 18,
   "metadata": {},
   "outputs": [
    {
     "name": "stdout",
     "output_type": "stream",
     "text": [
      "('John', 'Tina')\n"
     ]
    }
   ],
   "source": [
    "#Then query the system to print out users who like a particular cuisine. \n",
    "#so If you ask for t users who like Thai, the system should say Tina and John\n",
    "ans=run(2, x, (food, x, \"Thai\"))\n",
    "print(ans)"
   ]
  },
  {
   "cell_type": "code",
   "execution_count": 22,
   "metadata": {},
   "outputs": [],
   "source": [
    "from kanren import Relation, facts\n",
    "food = Relation()\n",
    "facts(food, (\"David\", \"Italian\"),\n",
    "                (\"Charlie\", \"American\"),\n",
    "               (\"Matt\", \"Chinese\"),\n",
    "              (\"Sally\", \"Italian\"),\n",
    "              (\"Jim\", \"American\"))"
   ]
  },
  {
   "cell_type": "code",
   "execution_count": 23,
   "metadata": {},
   "outputs": [
    {
     "name": "stdout",
     "output_type": "stream",
     "text": [
      "('Jim', 'Charlie')\n"
     ]
    }
   ],
   "source": [
    "#Then query the system to print out users who like a particular cuisine. \n",
    "#so If you ask for t users who like American, the system should say Charlie and Jim\n",
    "ans=run(2, x, (food, x, \"American\"))\n",
    "print(ans)"
   ]
  },
  {
   "cell_type": "code",
   "execution_count": null,
   "metadata": {},
   "outputs": [],
   "source": []
  }
 ],
 "metadata": {
  "kernelspec": {
   "display_name": "Python 3",
   "language": "python",
   "name": "python3"
  },
  "language_info": {
   "codemirror_mode": {
    "name": "ipython",
    "version": 3
   },
   "file_extension": ".py",
   "mimetype": "text/x-python",
   "name": "python",
   "nbconvert_exporter": "python",
   "pygments_lexer": "ipython3",
   "version": "3.8.3"
  }
 },
 "nbformat": 4,
 "nbformat_minor": 4
}
